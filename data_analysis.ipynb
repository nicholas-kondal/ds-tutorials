{
 "cells": [
  {
   "cell_type": "code",
   "execution_count": 4,
   "metadata": {},
   "outputs": [],
   "source": [
    "# 1/8 - What is Data Analysis, why Python?, what other options are there? what's the cycle of a Data Analysis project? What's the difference between Data Analysis and Data Science?\n",
    "# https://docs.google.com/presentation/d/1fDpjlyMiOMJyuc7_jMekcYLPP2XlSl1eWw9F7yE7byk/edit#slide=id.g6fe1465eda_0_215\n",
    "# \n",
    "# 2/8 - A demonstration of a real life data analysis project using Python, Pandas, SQL and Seaborn.\n",
    "# https://github.com/ine-rmotr-curriculum/FreeCodeCamp-Pandas-Real-Life-Example\n",
    "#\n",
    "# 3/8 - A step by step tutorial to learn how to use Jupyter Notebooks\n",
    "# https://github.com/ine-rmotr-curriculum/ds-content-interactive-jupyterlab-tutorial\n",
    "#\n",
    "# 8/8 - If your Python or coding skills are rusty, check out this section for a quick recap of Python main features and control flow structures.\n",
    "# https://github.com/ine-rmotr-curriculum/ds-content-python-under-10-minutes"
   ]
  },
  {
   "cell_type": "markdown",
   "metadata": {},
   "source": [
    "## 4/8 - NumPy data processing, low level details of computations and memory storage, limitations of Excel"
   ]
  },
  {
   "cell_type": "code",
   "execution_count": 5,
   "metadata": {},
   "outputs": [],
   "source": [
    "# https://github.com/ine-rmotr-curriculum/freecodecamp-intro-to-numpy"
   ]
  },
  {
   "cell_type": "markdown",
   "metadata": {},
   "source": [
    "## 5/8 - Pandas data processing, Data Frame vs spreadsheets, Big Data\n"
   ]
  },
  {
   "cell_type": "code",
   "execution_count": null,
   "metadata": {},
   "outputs": [],
   "source": [
    "# https://github.com/ine-rmotr-curriculum/freecodecamp-intro-to-pandas"
   ]
  },
  {
   "cell_type": "markdown",
   "metadata": {},
   "source": [
    "## 6/8 - Data cleaning (null values, invalid values, statistical outliers, etc, and how to clean them)\n"
   ]
  },
  {
   "cell_type": "code",
   "execution_count": null,
   "metadata": {},
   "outputs": [],
   "source": [
    "# https://github.com/ine-rmotr-curriculum/data-cleaning-rmotr-freecodecamp"
   ]
  },
  {
   "cell_type": "markdown",
   "metadata": {},
   "source": [
    "## 7/8 - Reading data from other sources "
   ]
  },
  {
   "cell_type": "code",
   "execution_count": null,
   "metadata": {},
   "outputs": [],
   "source": [
    "# https://github.com/ine-rmotr-curriculum/RDP-Reading-Data-with-Python-and-Pandas"
   ]
  }
 ],
 "metadata": {
  "interpreter": {
   "hash": "a5b7aeff42ba6761a280498ade45e749cf5f5c1a448f52619a139fff18264354"
  },
  "kernelspec": {
   "display_name": "Python 3.7.12 64-bit ('base': conda)",
   "name": "python3"
  },
  "language_info": {
   "codemirror_mode": {
    "name": "ipython",
    "version": 3
   },
   "file_extension": ".py",
   "mimetype": "text/x-python",
   "name": "python",
   "nbconvert_exporter": "python",
   "pygments_lexer": "ipython3",
   "version": "3.7.12"
  },
  "orig_nbformat": 4
 },
 "nbformat": 4,
 "nbformat_minor": 2
}
